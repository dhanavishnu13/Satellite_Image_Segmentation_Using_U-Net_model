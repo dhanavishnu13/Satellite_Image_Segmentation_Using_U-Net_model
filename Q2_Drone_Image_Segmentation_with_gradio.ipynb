{
  "cells": [
    {
      "cell_type": "markdown",
      "metadata": {
        "id": "view-in-github",
        "colab_type": "text"
      },
      "source": [
        "<a href=\"https://colab.research.google.com/github/dhanavishnu13/Satellite_Image_Segmentation_Using_U-Net_model/blob/main/Q2_Drone_Image_Segmentation_with_gradio.ipynb\" target=\"_parent\"><img src=\"https://colab.research.google.com/assets/colab-badge.svg\" alt=\"Open In Colab\"/></a>"
      ]
    },
    {
      "cell_type": "markdown",
      "source": [
        "[Deployed in Huggingface Spaces](https://huggingface.co/spaces/vishnu23/drone_image_segmentation)"
      ],
      "metadata": {
        "id": "Kq6A0SQxbMOf"
      }
    },
    {
      "cell_type": "code",
      "source": [
        "#Step1: Install Required Packages\n",
        "!pip install gradio"
      ],
      "metadata": {
        "id": "Ki-BF0b9_FPc"
      },
      "execution_count": null,
      "outputs": []
    },
    {
      "cell_type": "code",
      "execution_count": null,
      "metadata": {
        "id": "v2PQv9RVRI23"
      },
      "outputs": [],
      "source": [
        "#Step2: Import packages and libraries\n",
        "import os\n",
        "import cv2\n",
        "from PIL import Image\n",
        "import numpy as np\n",
        "from keras.models import Model\n",
        "from keras.layers import Input, Conv2D, MaxPooling2D, UpSampling2D, Conv2DTranspose\n",
        "from keras.layers import concatenate, BatchNormalization, Dropout, Lambda\n",
        "from keras import backend as K\n",
        "from matplotlib import pyplot as plt\n",
        "from tensorflow.keras.utils import to_categorical\n",
        "import geopandas as gpd\n",
        "import matplotlib.pyplot as plt\n",
        "from google.colab import drive\n",
        "from keras.models import load_model\n",
        "from tensorflow.keras.preprocessing.image import load_img, img_to_array\n",
        "from google.colab.patches import cv2_imshow\n",
        "import geopandas as gpd\n",
        "from skimage.measure import regionprops, label\n",
        "from shapely.geometry import Polygon\n",
        "import shutil"
      ]
    },
    {
      "cell_type": "code",
      "execution_count": null,
      "metadata": {
        "colab": {
          "base_uri": "https://localhost:8080/"
        },
        "id": "KKV_nemdKKQM",
        "outputId": "c4dce67e-dba6-4b08-b60d-f44fb4412c3c"
      },
      "outputs": [
        {
          "output_type": "stream",
          "name": "stdout",
          "text": [
            "Mounted at /content/drive\n"
          ]
        }
      ],
      "source": [
        "#Step3: Connecting to dataset source\n",
        "\n",
        "drive.mount('/content/drive')\n",
        "# data_dir = 'drive/MyDrive/Building_footprint_dataset'"
      ]
    },
    {
      "cell_type": "code",
      "execution_count": null,
      "metadata": {
        "id": "RqPXdXegiz37"
      },
      "outputs": [],
      "source": [
        "#Step4: Patchify\n",
        "\n",
        "def preprocess_image(image_path):\n",
        "    img = cv2.imread(image_path)\n",
        "    img = cv2.resize(img, (256, 256))\n",
        "    img = img.astype(np.float32) / 255.0\n",
        "    return img\n",
        "\n",
        "def preprocess_mask(mask_path):\n",
        "    mask = cv2.imread(mask_path, cv2.IMREAD_GRAYSCALE)\n",
        "    mask = cv2.resize(mask, (256, 256))\n",
        "    mask = (mask > 0).astype(np.float32)\n",
        "    return mask\n",
        "\n",
        "images = []\n",
        "masks = []\n",
        "images_path = os.path.join('drive/MyDrive/Building_footprint_dataset/png/train')\n",
        "masks_path = os.path.join('drive/MyDrive/Building_footprint_dataset/png/train_labels')\n",
        "\n",
        "for filename in os.listdir(images_path):\n",
        "    image_path = os.path.join(images_path, filename)\n",
        "    mask_path = os.path.join(masks_path, filename)\n",
        "    images.append(preprocess_image(image_path))\n",
        "    masks.append(preprocess_mask(mask_path))"
      ]
    },
    {
      "cell_type": "code",
      "execution_count": null,
      "metadata": {
        "id": "T7MFf4cBkj1d"
      },
      "outputs": [],
      "source": [
        "#Step5: Encoding output classes\n",
        "X_train = np.array(images)\n",
        "y_train = np.array(masks)\n",
        "y_train = to_categorical(y_train, num_classes=2)"
      ]
    },
    {
      "cell_type": "code",
      "execution_count": null,
      "metadata": {
        "id": "N647PAXFTNh2"
      },
      "outputs": [],
      "source": [
        "#Step 6: Building the U-Net model\n",
        "def multi_unet_model(n_classes=2, image_height=256, image_width=256, image_channels=3):\n",
        "\n",
        "  inputs = Input((image_height, image_width, image_channels))\n",
        "\n",
        "  source_input = inputs\n",
        "\n",
        "  c1 = Conv2D(16, (3,3), activation=\"relu\", kernel_initializer=\"he_normal\", padding=\"same\")(source_input)\n",
        "  c1 = Dropout(0.2)(c1)\n",
        "  c1 = Conv2D(16, (3,3), activation=\"relu\", kernel_initializer=\"he_normal\", padding=\"same\")(c1)\n",
        "  p1 = MaxPooling2D((2,2))(c1)\n",
        "\n",
        "  c2 = Conv2D(32, (3,3), activation=\"relu\", kernel_initializer=\"he_normal\", padding=\"same\")(p1)\n",
        "  c2 = Dropout(0.2)(c2)\n",
        "  c2 = Conv2D(32, (3,3), activation=\"relu\", kernel_initializer=\"he_normal\", padding=\"same\")(c2)\n",
        "  p2 = MaxPooling2D((2,2))(c2)\n",
        "\n",
        "  c3 = Conv2D(64, (3,3), activation=\"relu\", kernel_initializer=\"he_normal\", padding=\"same\")(p2)\n",
        "  c3 = Dropout(0.2)(c3)\n",
        "  c3 = Conv2D(64, (3,3), activation=\"relu\", kernel_initializer=\"he_normal\", padding=\"same\")(c3)\n",
        "  p3 = MaxPooling2D((2,2))(c3)\n",
        "\n",
        "  c4 = Conv2D(128, (3,3), activation=\"relu\", kernel_initializer=\"he_normal\", padding=\"same\")(p3)\n",
        "  c4 = Dropout(0.2)(c4)\n",
        "  c4 = Conv2D(128, (3,3), activation=\"relu\", kernel_initializer=\"he_normal\", padding=\"same\")(c4)\n",
        "  p4 = MaxPooling2D((2,2))(c4)\n",
        "\n",
        "  c5 = Conv2D(256, (3,3), activation=\"relu\", kernel_initializer=\"he_normal\", padding=\"same\")(p4)\n",
        "  c5 = Dropout(0.2)(c5)\n",
        "  c5 = Conv2D(256, (3,3), activation=\"relu\", kernel_initializer=\"he_normal\", padding=\"same\")(c5)\n",
        "\n",
        "  u6 = Conv2DTranspose(128, (2,2), strides=(2,2), padding=\"same\")(c5)\n",
        "  u6 = concatenate([u6, c4])\n",
        "  c6 = Conv2D(128, (3,3), activation=\"relu\", kernel_initializer=\"he_normal\", padding=\"same\")(u6)\n",
        "  c6 = Dropout(0.2)(c6)\n",
        "  c6 = Conv2D(128, (3,3), activation=\"relu\", kernel_initializer=\"he_normal\", padding=\"same\")(c6)\n",
        "\n",
        "  u7 = Conv2DTranspose(64, (2,2), strides=(2,2), padding=\"same\")(c6)\n",
        "  u7 = concatenate([u7, c3])\n",
        "  c7 = Conv2D(64, (3,3), activation=\"relu\", kernel_initializer=\"he_normal\", padding=\"same\")(u7)\n",
        "  c7 = Dropout(0.2)(c7)\n",
        "  c7 = Conv2D(64, (3,3), activation=\"relu\", kernel_initializer=\"he_normal\", padding=\"same\")(c7)\n",
        "\n",
        "  u8 = Conv2DTranspose(32, (2,2), strides=(2,2), padding=\"same\")(c7)\n",
        "  u8 = concatenate([u8, c2])\n",
        "  c8 = Conv2D(32, (3,3), activation=\"relu\", kernel_initializer=\"he_normal\", padding=\"same\")(u8)\n",
        "  c8 = Dropout(0.2)(c8)\n",
        "  c8 = Conv2D(32, (3,3), activation=\"relu\", kernel_initializer=\"he_normal\", padding=\"same\")(c8)\n",
        "\n",
        "  u9 = Conv2DTranspose(16, (2,2), strides=(2,2), padding=\"same\")(c8)\n",
        "  u9 = concatenate([u9, c1], axis=3)\n",
        "  c9 = Conv2D(16, (3,3), activation=\"relu\", kernel_initializer=\"he_normal\", padding=\"same\")(u9)\n",
        "  c9 = Dropout(0.2)(c9)\n",
        "  c9 = Conv2D(16, (3,3), activation=\"relu\", kernel_initializer=\"he_normal\", padding=\"same\")(c9)\n",
        "\n",
        "  outputs = Conv2D(n_classes, (1,1), activation=\"sigmoid\")(c9)\n",
        "\n",
        "  model = Model(inputs=[inputs], outputs=[outputs])\n",
        "  return model"
      ]
    },
    {
      "cell_type": "code",
      "execution_count": null,
      "metadata": {
        "colab": {
          "background_save": true
        },
        "id": "TEhk2O7JTOkK"
      },
      "outputs": [],
      "source": [
        "#Step 7: Model Compilation\n",
        "model = multi_unet_model()\n",
        "model.compile(optimizer='adam', loss='binary_crossentropy',metrics='accuracy')\n",
        "model.fit(X_train, y_train, epochs=50, batch_size=5)\n",
        "model.save('drive/My Drive/building_footprint_extraction_model.h5')\n",
        "model.save('drive/My Drive/building_footprint_extraction_model.keras')"
      ]
    },
    {
      "cell_type": "code",
      "execution_count": null,
      "metadata": {
        "id": "CNpBBTA7f3di",
        "colab": {
          "base_uri": "https://localhost:8080/"
        },
        "outputId": "ede60320-29c5-49a4-cfc2-e663bc6d605b"
      },
      "outputs": [
        {
          "output_type": "stream",
          "name": "stdout",
          "text": [
            "Model: \"model_4\"\n",
            "__________________________________________________________________________________________________\n",
            " Layer (type)                   Output Shape         Param #     Connected to                     \n",
            "==================================================================================================\n",
            " input_5 (InputLayer)           [(None, 256, 256, 3  0           []                               \n",
            "                                )]                                                                \n",
            "                                                                                                  \n",
            " conv2d_76 (Conv2D)             (None, 256, 256, 16  448         ['input_5[0][0]']                \n",
            "                                )                                                                 \n",
            "                                                                                                  \n",
            " dropout_36 (Dropout)           (None, 256, 256, 16  0           ['conv2d_76[0][0]']              \n",
            "                                )                                                                 \n",
            "                                                                                                  \n",
            " conv2d_77 (Conv2D)             (None, 256, 256, 16  2320        ['dropout_36[0][0]']             \n",
            "                                )                                                                 \n",
            "                                                                                                  \n",
            " max_pooling2d_16 (MaxPooling2D  (None, 128, 128, 16  0          ['conv2d_77[0][0]']              \n",
            " )                              )                                                                 \n",
            "                                                                                                  \n",
            " conv2d_78 (Conv2D)             (None, 128, 128, 32  4640        ['max_pooling2d_16[0][0]']       \n",
            "                                )                                                                 \n",
            "                                                                                                  \n",
            " dropout_37 (Dropout)           (None, 128, 128, 32  0           ['conv2d_78[0][0]']              \n",
            "                                )                                                                 \n",
            "                                                                                                  \n",
            " conv2d_79 (Conv2D)             (None, 128, 128, 32  9248        ['dropout_37[0][0]']             \n",
            "                                )                                                                 \n",
            "                                                                                                  \n",
            " max_pooling2d_17 (MaxPooling2D  (None, 64, 64, 32)  0           ['conv2d_79[0][0]']              \n",
            " )                                                                                                \n",
            "                                                                                                  \n",
            " conv2d_80 (Conv2D)             (None, 64, 64, 64)   18496       ['max_pooling2d_17[0][0]']       \n",
            "                                                                                                  \n",
            " dropout_38 (Dropout)           (None, 64, 64, 64)   0           ['conv2d_80[0][0]']              \n",
            "                                                                                                  \n",
            " conv2d_81 (Conv2D)             (None, 64, 64, 64)   36928       ['dropout_38[0][0]']             \n",
            "                                                                                                  \n",
            " max_pooling2d_18 (MaxPooling2D  (None, 32, 32, 64)  0           ['conv2d_81[0][0]']              \n",
            " )                                                                                                \n",
            "                                                                                                  \n",
            " conv2d_82 (Conv2D)             (None, 32, 32, 128)  73856       ['max_pooling2d_18[0][0]']       \n",
            "                                                                                                  \n",
            " dropout_39 (Dropout)           (None, 32, 32, 128)  0           ['conv2d_82[0][0]']              \n",
            "                                                                                                  \n",
            " conv2d_83 (Conv2D)             (None, 32, 32, 128)  147584      ['dropout_39[0][0]']             \n",
            "                                                                                                  \n",
            " max_pooling2d_19 (MaxPooling2D  (None, 16, 16, 128)  0          ['conv2d_83[0][0]']              \n",
            " )                                                                                                \n",
            "                                                                                                  \n",
            " conv2d_84 (Conv2D)             (None, 16, 16, 256)  295168      ['max_pooling2d_19[0][0]']       \n",
            "                                                                                                  \n",
            " dropout_40 (Dropout)           (None, 16, 16, 256)  0           ['conv2d_84[0][0]']              \n",
            "                                                                                                  \n",
            " conv2d_85 (Conv2D)             (None, 16, 16, 256)  590080      ['dropout_40[0][0]']             \n",
            "                                                                                                  \n",
            " conv2d_transpose_16 (Conv2DTra  (None, 32, 32, 128)  131200     ['conv2d_85[0][0]']              \n",
            " nspose)                                                                                          \n",
            "                                                                                                  \n",
            " concatenate_16 (Concatenate)   (None, 32, 32, 256)  0           ['conv2d_transpose_16[0][0]',    \n",
            "                                                                  'conv2d_83[0][0]']              \n",
            "                                                                                                  \n",
            " conv2d_86 (Conv2D)             (None, 32, 32, 128)  295040      ['concatenate_16[0][0]']         \n",
            "                                                                                                  \n",
            " dropout_41 (Dropout)           (None, 32, 32, 128)  0           ['conv2d_86[0][0]']              \n",
            "                                                                                                  \n",
            " conv2d_87 (Conv2D)             (None, 32, 32, 128)  147584      ['dropout_41[0][0]']             \n",
            "                                                                                                  \n",
            " conv2d_transpose_17 (Conv2DTra  (None, 64, 64, 64)  32832       ['conv2d_87[0][0]']              \n",
            " nspose)                                                                                          \n",
            "                                                                                                  \n",
            " concatenate_17 (Concatenate)   (None, 64, 64, 128)  0           ['conv2d_transpose_17[0][0]',    \n",
            "                                                                  'conv2d_81[0][0]']              \n",
            "                                                                                                  \n",
            " conv2d_88 (Conv2D)             (None, 64, 64, 64)   73792       ['concatenate_17[0][0]']         \n",
            "                                                                                                  \n",
            " dropout_42 (Dropout)           (None, 64, 64, 64)   0           ['conv2d_88[0][0]']              \n",
            "                                                                                                  \n",
            " conv2d_89 (Conv2D)             (None, 64, 64, 64)   36928       ['dropout_42[0][0]']             \n",
            "                                                                                                  \n",
            " conv2d_transpose_18 (Conv2DTra  (None, 128, 128, 32  8224       ['conv2d_89[0][0]']              \n",
            " nspose)                        )                                                                 \n",
            "                                                                                                  \n",
            " concatenate_18 (Concatenate)   (None, 128, 128, 64  0           ['conv2d_transpose_18[0][0]',    \n",
            "                                )                                 'conv2d_79[0][0]']              \n",
            "                                                                                                  \n",
            " conv2d_90 (Conv2D)             (None, 128, 128, 32  18464       ['concatenate_18[0][0]']         \n",
            "                                )                                                                 \n",
            "                                                                                                  \n",
            " dropout_43 (Dropout)           (None, 128, 128, 32  0           ['conv2d_90[0][0]']              \n",
            "                                )                                                                 \n",
            "                                                                                                  \n",
            " conv2d_91 (Conv2D)             (None, 128, 128, 32  9248        ['dropout_43[0][0]']             \n",
            "                                )                                                                 \n",
            "                                                                                                  \n",
            " conv2d_transpose_19 (Conv2DTra  (None, 256, 256, 16  2064       ['conv2d_91[0][0]']              \n",
            " nspose)                        )                                                                 \n",
            "                                                                                                  \n",
            " concatenate_19 (Concatenate)   (None, 256, 256, 32  0           ['conv2d_transpose_19[0][0]',    \n",
            "                                )                                 'conv2d_77[0][0]']              \n",
            "                                                                                                  \n",
            " conv2d_92 (Conv2D)             (None, 256, 256, 16  4624        ['concatenate_19[0][0]']         \n",
            "                                )                                                                 \n",
            "                                                                                                  \n",
            " dropout_44 (Dropout)           (None, 256, 256, 16  0           ['conv2d_92[0][0]']              \n",
            "                                )                                                                 \n",
            "                                                                                                  \n",
            " conv2d_93 (Conv2D)             (None, 256, 256, 16  2320        ['dropout_44[0][0]']             \n",
            "                                )                                                                 \n",
            "                                                                                                  \n",
            " conv2d_94 (Conv2D)             (None, 256, 256, 2)  34          ['conv2d_93[0][0]']              \n",
            "                                                                                                  \n",
            "==================================================================================================\n",
            "Total params: 1,941,122\n",
            "Trainable params: 1,941,122\n",
            "Non-trainable params: 0\n",
            "__________________________________________________________________________________________________\n"
          ]
        }
      ],
      "source": [
        "# model = load_model('drive/My Drive/building_footprint_extraction_model.h5')\n",
        "model = load_model('/content/drive/MyDrive/Colab Notebooks/building_footprint_extraction_model.h5')\n",
        "model.summary()"
      ]
    },
    {
      "cell_type": "code",
      "execution_count": null,
      "metadata": {
        "id": "YaTe7bnfjbZq",
        "colab": {
          "base_uri": "https://localhost:8080/",
          "height": 308
        },
        "outputId": "de5e03d3-9316-434d-a428-a1c8ca71608c"
      },
      "outputs": [
        {
          "output_type": "stream",
          "name": "stdout",
          "text": [
            "1/1 [==============================] - 10s 10s/step\n"
          ]
        },
        {
          "output_type": "display_data",
          "data": {
            "text/plain": [
              "<PIL.Image.Image image mode=L size=256x256>"
            ],
            "image/png": "[encoded data removed]"
          },
          "metadata": {}
        },
        {
          "output_type": "execute_result",
          "data": {
            "text/plain": [
              "True"
            ]
          },
          "metadata": {},
          "execution_count": 8
        }
      ],
      "source": [
        "#Step 8: Model Prediction\n",
        "img = load_img('/content/23429080_15.png', target_size=(256, 256))\n",
        "img_array = img_to_array(img)\n",
        "img_array = img_array.reshape((1, 256, 256, 3))\n",
        "img_array = img_array / 255.0\n",
        "predictions = model.predict(img_array)\n",
        "predicted_image = np.argmax(predictions, axis=3)\n",
        "predicted_image = predicted_image[0,:,:]\n",
        "predicted_image = predicted_image * 255\n",
        "cv2_imshow(predicted_image)\n",
        "cv2.imwrite('output.jpg',predicted_image)"
      ]
    },
    {
      "cell_type": "code",
      "source": [
        "threshold = 0.5\n",
        "binary_mask = (predictions > threshold).astype(np.uint8)[:, :, 1]\n",
        "if np.sum(binary_mask) == 0:\n",
        "    print(\"No building pixels detected. Saving an empty shapefile.\")\n",
        "else:\n",
        "    labeled_mask = label(binary_mask)\n",
        "    building_polygons = []\n",
        "    props = regionprops(labeled_mask)\n",
        "    for prop in props:\n",
        "        polygon = Polygon([(point[1], point[0]) for point in prop.coords])\n",
        "        building_polygons.append(polygon)\n",
        "    gdf = gpd.GeoDataFrame(geometry=building_polygons, crs=\"EPSG:4326\")\n",
        "    output_shapefile = \"shapefiles/building_footprints.shp\"\n",
        "    if os.path.exists('shapefiles'):\n",
        "      pass\n",
        "    else:\n",
        "      os.mkdir('shapefiles')\n",
        "    gdf.to_file(output_shapefile)\n",
        "    cv2.imwrite('shapefiles/mask.jpg',predicted_image)\n",
        "    shutil.make_archive('shapefile', 'zip', 'shapefiles')"
      ],
      "metadata": {
        "id": "HlYuRnoyAlU8"
      },
      "execution_count": null,
      "outputs": []
    },
    {
      "cell_type": "code",
      "source": [
        "shapefile_path = \"/content/building_footprints.shp\"\n",
        "gdf = gpd.read_file(shapefile_path)\n",
        "gdf.head()"
      ],
      "metadata": {
        "id": "jTkC726WDS_p"
      },
      "execution_count": null,
      "outputs": []
    },
    {
      "cell_type": "markdown",
      "source": [
        "Buliding Gradio"
      ],
      "metadata": {
        "id": "qdUqVFAyN-xw"
      }
    },
    {
      "cell_type": "code",
      "source": [
        "!pip install gradio"
      ],
      "metadata": {
        "id": "5HEPvBZ6OQPZ"
      },
      "execution_count": null,
      "outputs": []
    },
    {
      "cell_type": "code",
      "source": [
        "import os\n",
        "import cv2\n",
        "from PIL import Image\n",
        "import numpy as np\n",
        "from keras import backend as K\n",
        "import geopandas as gpd\n",
        "import matplotlib.pyplot as plt\n",
        "# from google.colab import drive\n",
        "from keras.models import load_model\n",
        "from tensorflow.keras.preprocessing.image import load_img, img_to_array\n",
        "import geopandas as gpd\n",
        "from skimage.measure import regionprops, label\n",
        "from shapely.geometry import Polygon\n",
        "import shutil\n",
        "import gradio as gr\n",
        "\n",
        "def predict(img):\n",
        "    # model = load_model('drive/My Drive/building_footprint_extraction_model.h5')\n",
        "    model = load_model('model/building_footprint_extraction_model.h5')\n",
        "    img_array = img_to_array(img)\n",
        "    img_array = img_array.reshape((1, 256, 256, 3))\n",
        "    img_array = img_array / 255.0\n",
        "    predictions = model.predict(img_array)\n",
        "    predicted_image = np.argmax(predictions, axis=3)\n",
        "    predicted_image = predicted_image[0,:,:]\n",
        "    predicted_image = predicted_image * 255\n",
        "    return predictions,predicted_image\n",
        "\n",
        "def get_shape_files(img):\n",
        "  predictions,predicted_image= predict(img)\n",
        "  threshold = 0.5\n",
        "  binary_mask = (predictions > threshold).astype(np.uint8)[:, :, 1]\n",
        "  if np.sum(binary_mask) == 0:\n",
        "      print(\"No building pixels detected. Saving an empty shapefile.\")\n",
        "  else:\n",
        "      labeled_mask = label(binary_mask)\n",
        "      building_polygons = []\n",
        "      props = regionprops(labeled_mask)\n",
        "      for prop in props:\n",
        "          polygon = Polygon([(point[1], point[0]) for point in prop.coords])\n",
        "          building_polygons.append(polygon)\n",
        "      gdf = gpd.GeoDataFrame(geometry=building_polygons, crs=\"EPSG:4326\")\n",
        "      output_shapefile = \"shapefiles/building_footprints.shp\"\n",
        "      if os.path.exists('shapefiles'):\n",
        "        pass\n",
        "      else:\n",
        "        os.mkdir('shapefiles')\n",
        "      gdf.to_file(output_shapefile)\n",
        "\n",
        "      # To get Masked Image\n",
        "      cv2.imwrite('shapefiles/mask.jpg',predicted_image)\n",
        "      shutil.make_archive('shapefile', 'zip', 'shapefiles')\n",
        "      return 'shapefile.zip',predicted_image\n",
        "\n",
        "my_app = gr.Blocks()\n",
        "with my_app:\n",
        "  gr.Markdown(\"<center><h1>Building Footprint Extraction</h1></center>\")\n",
        "  with gr.Tabs():\n",
        "    # with gr.TabItem(\"Get Mask Image\"):\n",
        "    #   with gr.Row():\n",
        "    #     with gr.Column():\n",
        "    #         img_source = gr.Image(label=\"Please select source Image\", shape=(256, 256))\n",
        "    #         source_image_loader = gr.Button(\"Load above Image\")\n",
        "    #     with gr.Column():\n",
        "    #         img_output = gr.Image(label=\"Image Output\")\n",
        "    # source_image_loader.click(predict,img_source,[img_output])\n",
        "    with gr.TabItem(\"Get Mask Image and Shapefiles\"):\n",
        "      with gr.Row():\n",
        "        with gr.Column():\n",
        "            img_source = gr.Image(label=\"Please select source Image\", shape=(256, 256))\n",
        "            get_shape_loader = gr.Button(\"Get Shape File\")\n",
        "\n",
        "        with gr.Column():\n",
        "          with gr.Row():\n",
        "              mask_img=gr.Image(label=\"Image Output\")\n",
        "          with gr.Row():\n",
        "            output_zip = gr.outputs.File()\n",
        "\n",
        "    get_shape_loader.click(get_shape_files,img_source,[output_zip,mask_img])\n",
        "my_app.launch(debug = True)"
      ],
      "metadata": {
        "id": "w48bq83qIyah"
      },
      "execution_count": null,
      "outputs": []
    }
  ],
  "metadata": {
    "colab": {
      "provenance": [],
      "gpuType": "T4",
      "include_colab_link": true
    },
    "kernelspec": {
      "display_name": "Python 3",
      "name": "python3"
    },
    "language_info": {
      "name": "python"
    },
    "accelerator": "GPU"
  },
  "nbformat": 4,
  "nbformat_minor": 0
}